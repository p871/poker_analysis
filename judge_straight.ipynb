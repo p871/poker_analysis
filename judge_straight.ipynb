{
 "cells": [
  {
   "cell_type": "code",
   "execution_count": 1,
   "metadata": {
    "collapsed": true
   },
   "outputs": [],
   "source": [
    "# 解説記事 https://note.mu/871p/n/nd69f08871c9e"
    "import re"
   ]
  },
  {
   "cell_type": "code",
   "execution_count": 51,
   "metadata": {},
   "outputs": [],
   "source": [
    "card_num_dict = {'A':14, 'K':13, 'Q':12, 'J':11, 'T':10, '9':9, '8':8, '7':7, '6':6, '5':5, '4':4, '3':3, '2':2}\n",
    "\n",
    "def get_num_list(board,hand):\n",
    "    key_list = list(set([*board[::2]] + [*hand[::2]]))\n",
    "    return [card_num_dict[key] for key in key_list]\n",
    "\n",
    "def judge_straight(bin_str):\n",
    "    if re.match( r'.*11111.*', bin_str):\n",
    "        return 'straight'\n",
    "    if re.match(r'.*011110.*', bin_str):\n",
    "        return 'open end'\n",
    "    if re.match(r'.*(10111|11011|11101|1111).*', bin_str):\n",
    "        return 'gut shot'\n",
    "    return 'none'\n",
    "\n",
    "def get_straight_type(board,hand):\n",
    "    num_list = get_num_list(board,hand)\n",
    "    bin_sum = sum([pow(2,num-1)+1 if num ==14 else pow(2,num-1) for num in num_list])\n",
    "    bin_str = format(bin_sum, '014b')\n",
    "    print(bin_str) # 説明用。\n",
    "    return judge_straight(bin_str)"
   ]
  },
  {
   "cell_type": "code",
   "execution_count": 52,
   "metadata": {},
   "outputs": [
    {
     "name": "stdout",
     "output_type": "stream",
     "text": [
      "10000000001111\n"
     ]
    },
    {
     "data": {
      "text/plain": [
       "'gut shot'"
      ]
     },
     "execution_count": 52,
     "metadata": {},
     "output_type": "execute_result"
    }
   ],
   "source": [
    "board = 'As2s4s'\n",
    "hand = '3s3c'\n",
    "get_straight_type(board,hand)"
   ]
  },
  {
   "cell_type": "code",
   "execution_count": 54,
   "metadata": {},
   "outputs": [
    {
     "name": "stdout",
     "output_type": "stream",
     "text": [
      "01111010000000\n"
     ]
    },
    {
     "data": {
      "text/plain": [
       "'open end'"
      ]
     },
     "execution_count": 54,
     "metadata": {},
     "output_type": "execute_result"
    }
   ],
   "source": [
    "board = 'KsTs8s8c'\n",
    "hand = 'JsQc'\n",
    "get_straight_type(board,hand)"
   ]
  }
 ],
 "metadata": {
  "kernelspec": {
   "display_name": "Python 3",
   "language": "python",
   "name": "python3"
  },
  "language_info": {
   "codemirror_mode": {
    "name": "ipython",
    "version": 3
   },
   "file_extension": ".py",
   "mimetype": "text/x-python",
   "name": "python",
   "nbconvert_exporter": "python",
   "pygments_lexer": "ipython3",
   "version": "3.6.3"
  }
 },
 "nbformat": 4,
 "nbformat_minor": 2
}
