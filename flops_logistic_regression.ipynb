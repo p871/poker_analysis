{
 "cells": [
  {
   "cell_type": "markdown",
   "metadata": {},
   "source": [
    "### ロジスティック回帰により、flopでboardによってbetするべきかcheckするべきかの２値判別予測をします。\n",
    "### situation: BU vs SB 3bet、SBのflop戦略"
   ]
  },
  {
   "cell_type": "code",
   "execution_count": 17,
   "metadata": {
    "collapsed": true
   },
   "outputs": [],
   "source": [
    "import numpy as np\n",
    "import pandas as pd\n",
    "from sklearn.linear_model import LogisticRegression\n",
    "from sklearn.model_selection import cross_val_score, StratifiedKFold"
   ]
  },
  {
   "cell_type": "code",
   "execution_count": 18,
   "metadata": {
    "collapsed": true
   },
   "outputs": [],
   "source": [
    "# ボードがmonotone,twotone,rainbowのどれなのかを判定する関数\n",
    "# boardは 'Ts6s3c' などの形式\n",
    "suit_dic = {1:'monotone', 2:'twotone',3:'rainbow'}\n",
    "pair_dic = {1:'trips', 2:'one pair', 3:'no pair'}\n",
    "\n",
    "def dist_board_type(board):\n",
    "    return suit_dic[len(set([*board[1:6:2]]))]\n",
    "    \n",
    "# boardにペアがあるかを判定する関数\n",
    "def dist_board_pair(board):\n",
    "    return pair_dic[len(set([*board[0:5:2]]))]"
   ]
  },
  {
   "cell_type": "code",
   "execution_count": 20,
   "metadata": {
    "collapsed": true
   },
   "outputs": [],
   "source": [
    "card_num_dict = {'A':14, 'K':13, 'Q':12, 'J':11, 'T':10, '9':9, '8':8, '7':7, '6':6, '5':5, '4':4, '3':3, '2':2}\n",
    "\n",
    "def get_board_sum(board):\n",
    "    return card_num_dict[board[0]]+card_num_dict[board[2]]+card_num_dict[board[4]]\n",
    "\n",
    "def get_high_card(board):\n",
    "    return max([card_num_dict[board[0]], card_num_dict[board[2]], card_num_dict[board[4]]])"
   ]
  },
  {
   "cell_type": "code",
   "execution_count": 21,
   "metadata": {
    "collapsed": true
   },
   "outputs": [],
   "source": [
    "df = pd.read_csv('184flops_3bet.csv')"
   ]
  },
  {
   "cell_type": "code",
   "execution_count": 22,
   "metadata": {},
   "outputs": [
    {
     "data": {
      "text/html": [
       "<div>\n",
       "<style>\n",
       "    .dataframe thead tr:only-child th {\n",
       "        text-align: right;\n",
       "    }\n",
       "\n",
       "    .dataframe thead th {\n",
       "        text-align: left;\n",
       "    }\n",
       "\n",
       "    .dataframe tbody tr th {\n",
       "        vertical-align: top;\n",
       "    }\n",
       "</style>\n",
       "<table border=\"1\" class=\"dataframe\">\n",
       "  <thead>\n",
       "    <tr style=\"text-align: right;\">\n",
       "      <th></th>\n",
       "      <th>board</th>\n",
       "      <th>equity</th>\n",
       "      <th>EV</th>\n",
       "      <th>bet66%</th>\n",
       "      <th>bet33%</th>\n",
       "      <th>check</th>\n",
       "    </tr>\n",
       "  </thead>\n",
       "  <tbody>\n",
       "    <tr>\n",
       "      <th>0</th>\n",
       "      <td>AsQs3s</td>\n",
       "      <td>59.446</td>\n",
       "      <td>13.336</td>\n",
       "      <td>0.035</td>\n",
       "      <td>5.471</td>\n",
       "      <td>94.493</td>\n",
       "    </tr>\n",
       "    <tr>\n",
       "      <th>1</th>\n",
       "      <td>4s3s2s</td>\n",
       "      <td>52.193</td>\n",
       "      <td>11.321</td>\n",
       "      <td>0.118</td>\n",
       "      <td>9.239</td>\n",
       "      <td>90.643</td>\n",
       "    </tr>\n",
       "    <tr>\n",
       "      <th>2</th>\n",
       "      <td>6s4s3s</td>\n",
       "      <td>51.017</td>\n",
       "      <td>11.494</td>\n",
       "      <td>0.152</td>\n",
       "      <td>10.345</td>\n",
       "      <td>89.503</td>\n",
       "    </tr>\n",
       "    <tr>\n",
       "      <th>3</th>\n",
       "      <td>As7s5s</td>\n",
       "      <td>55.429</td>\n",
       "      <td>13.209</td>\n",
       "      <td>3.708</td>\n",
       "      <td>13.781</td>\n",
       "      <td>82.511</td>\n",
       "    </tr>\n",
       "    <tr>\n",
       "      <th>4</th>\n",
       "      <td>As3s2d</td>\n",
       "      <td>56.014</td>\n",
       "      <td>11.881</td>\n",
       "      <td>4.105</td>\n",
       "      <td>15.903</td>\n",
       "      <td>79.992</td>\n",
       "    </tr>\n",
       "  </tbody>\n",
       "</table>\n",
       "</div>"
      ],
      "text/plain": [
       "    board  equity      EV  bet66%  bet33%   check\n",
       "0  AsQs3s  59.446  13.336   0.035   5.471  94.493\n",
       "1  4s3s2s  52.193  11.321   0.118   9.239  90.643\n",
       "2  6s4s3s  51.017  11.494   0.152  10.345  89.503\n",
       "3  As7s5s  55.429  13.209   3.708  13.781  82.511\n",
       "4  As3s2d  56.014  11.881   4.105  15.903  79.992"
      ]
     },
     "execution_count": 22,
     "metadata": {},
     "output_type": "execute_result"
    }
   ],
   "source": [
    "df.head()"
   ]
  },
  {
   "cell_type": "code",
   "execution_count": 23,
   "metadata": {
    "collapsed": true
   },
   "outputs": [],
   "source": [
    "# これだけだとcheck率を予測する変数が足りなさそうなので、feature engineeringにより変数追加\n",
    "df['board_type'] = df['board'].apply(dist_board_type)\n",
    "df['board_sum'] = df['board'].apply(get_board_sum)\n",
    "df['board_pair'] = df['board'].apply(dist_board_pair)\n",
    "df['high_card'] = df['board'].apply(get_high_card)"
   ]
  },
  {
   "cell_type": "code",
   "execution_count": 24,
   "metadata": {},
   "outputs": [
    {
     "data": {
      "text/html": [
       "<div>\n",
       "<style>\n",
       "    .dataframe thead tr:only-child th {\n",
       "        text-align: right;\n",
       "    }\n",
       "\n",
       "    .dataframe thead th {\n",
       "        text-align: left;\n",
       "    }\n",
       "\n",
       "    .dataframe tbody tr th {\n",
       "        vertical-align: top;\n",
       "    }\n",
       "</style>\n",
       "<table border=\"1\" class=\"dataframe\">\n",
       "  <thead>\n",
       "    <tr style=\"text-align: right;\">\n",
       "      <th></th>\n",
       "      <th>board</th>\n",
       "      <th>equity</th>\n",
       "      <th>EV</th>\n",
       "      <th>bet66%</th>\n",
       "      <th>bet33%</th>\n",
       "      <th>check</th>\n",
       "      <th>board_type</th>\n",
       "      <th>board_sum</th>\n",
       "      <th>board_pair</th>\n",
       "      <th>high_card</th>\n",
       "    </tr>\n",
       "  </thead>\n",
       "  <tbody>\n",
       "    <tr>\n",
       "      <th>0</th>\n",
       "      <td>AsQs3s</td>\n",
       "      <td>59.446</td>\n",
       "      <td>13.336</td>\n",
       "      <td>0.035</td>\n",
       "      <td>5.471</td>\n",
       "      <td>94.493</td>\n",
       "      <td>monotone</td>\n",
       "      <td>29</td>\n",
       "      <td>no pair</td>\n",
       "      <td>14</td>\n",
       "    </tr>\n",
       "    <tr>\n",
       "      <th>1</th>\n",
       "      <td>4s3s2s</td>\n",
       "      <td>52.193</td>\n",
       "      <td>11.321</td>\n",
       "      <td>0.118</td>\n",
       "      <td>9.239</td>\n",
       "      <td>90.643</td>\n",
       "      <td>monotone</td>\n",
       "      <td>9</td>\n",
       "      <td>no pair</td>\n",
       "      <td>4</td>\n",
       "    </tr>\n",
       "    <tr>\n",
       "      <th>2</th>\n",
       "      <td>6s4s3s</td>\n",
       "      <td>51.017</td>\n",
       "      <td>11.494</td>\n",
       "      <td>0.152</td>\n",
       "      <td>10.345</td>\n",
       "      <td>89.503</td>\n",
       "      <td>monotone</td>\n",
       "      <td>13</td>\n",
       "      <td>no pair</td>\n",
       "      <td>6</td>\n",
       "    </tr>\n",
       "    <tr>\n",
       "      <th>3</th>\n",
       "      <td>As7s5s</td>\n",
       "      <td>55.429</td>\n",
       "      <td>13.209</td>\n",
       "      <td>3.708</td>\n",
       "      <td>13.781</td>\n",
       "      <td>82.511</td>\n",
       "      <td>monotone</td>\n",
       "      <td>26</td>\n",
       "      <td>no pair</td>\n",
       "      <td>14</td>\n",
       "    </tr>\n",
       "    <tr>\n",
       "      <th>4</th>\n",
       "      <td>As3s2d</td>\n",
       "      <td>56.014</td>\n",
       "      <td>11.881</td>\n",
       "      <td>4.105</td>\n",
       "      <td>15.903</td>\n",
       "      <td>79.992</td>\n",
       "      <td>twotone</td>\n",
       "      <td>19</td>\n",
       "      <td>no pair</td>\n",
       "      <td>14</td>\n",
       "    </tr>\n",
       "  </tbody>\n",
       "</table>\n",
       "</div>"
      ],
      "text/plain": [
       "    board  equity      EV  bet66%  bet33%   check board_type  board_sum  \\\n",
       "0  AsQs3s  59.446  13.336   0.035   5.471  94.493   monotone         29   \n",
       "1  4s3s2s  52.193  11.321   0.118   9.239  90.643   monotone          9   \n",
       "2  6s4s3s  51.017  11.494   0.152  10.345  89.503   monotone         13   \n",
       "3  As7s5s  55.429  13.209   3.708  13.781  82.511   monotone         26   \n",
       "4  As3s2d  56.014  11.881   4.105  15.903  79.992    twotone         19   \n",
       "\n",
       "  board_pair  high_card  \n",
       "0    no pair         14  \n",
       "1    no pair          4  \n",
       "2    no pair          6  \n",
       "3    no pair         14  \n",
       "4    no pair         14  "
      ]
     },
     "execution_count": 24,
     "metadata": {},
     "output_type": "execute_result"
    }
   ],
   "source": [
    "# カラムが増えました\n",
    "df.head()"
   ]
  },
  {
   "cell_type": "code",
   "execution_count": 25,
   "metadata": {
    "collapsed": true
   },
   "outputs": [],
   "source": [
    "# bet55%以上のボードに1, bet45%以下のボードに0をつける関数\n",
    "def check_or_bet(x):\n",
    "    if x >= 55:\n",
    "        return 0\n",
    "    elif x <= 45:\n",
    "        return 1"
   ]
  },
  {
   "cell_type": "code",
   "execution_count": 26,
   "metadata": {
    "collapsed": true
   },
   "outputs": [],
   "source": [
    "df['check_or_bet'] = df['check'].apply(check_or_bet)"
   ]
  },
  {
   "cell_type": "code",
   "execution_count": 27,
   "metadata": {},
   "outputs": [
    {
     "data": {
      "text/plain": [
       "(184, 11)"
      ]
     },
     "execution_count": 27,
     "metadata": {},
     "output_type": "execute_result"
    }
   ],
   "source": [
    "df.shape"
   ]
  },
  {
   "cell_type": "code",
   "execution_count": 28,
   "metadata": {
    "collapsed": true
   },
   "outputs": [],
   "source": [
    "# bet率が45%より大きく55%より小さいデータは取り除く\n",
    "df.dropna(inplace=True)"
   ]
  },
  {
   "cell_type": "code",
   "execution_count": 29,
   "metadata": {},
   "outputs": [
    {
     "data": {
      "text/plain": [
       "(167, 11)"
      ]
     },
     "execution_count": 29,
     "metadata": {},
     "output_type": "execute_result"
    }
   ],
   "source": [
    "df.shape"
   ]
  },
  {
   "cell_type": "code",
   "execution_count": 30,
   "metadata": {},
   "outputs": [
    {
     "data": {
      "text/plain": [
       "twotone     86\n",
       "rainbow     69\n",
       "monotone    12\n",
       "Name: board_type, dtype: int64"
      ]
     },
     "execution_count": 30,
     "metadata": {},
     "output_type": "execute_result"
    }
   ],
   "source": [
    "df['board_type'].value_counts()"
   ]
  },
  {
   "cell_type": "code",
   "execution_count": 31,
   "metadata": {},
   "outputs": [
    {
     "data": {
      "text/html": [
       "<div>\n",
       "<style>\n",
       "    .dataframe thead tr:only-child th {\n",
       "        text-align: right;\n",
       "    }\n",
       "\n",
       "    .dataframe thead th {\n",
       "        text-align: left;\n",
       "    }\n",
       "\n",
       "    .dataframe tbody tr th {\n",
       "        vertical-align: top;\n",
       "    }\n",
       "</style>\n",
       "<table border=\"1\" class=\"dataframe\">\n",
       "  <thead>\n",
       "    <tr style=\"text-align: right;\">\n",
       "      <th></th>\n",
       "      <th>equity</th>\n",
       "      <th>EV</th>\n",
       "      <th>bet66%</th>\n",
       "      <th>bet33%</th>\n",
       "      <th>check</th>\n",
       "      <th>board_sum</th>\n",
       "      <th>high_card</th>\n",
       "      <th>check_or_bet</th>\n",
       "    </tr>\n",
       "    <tr>\n",
       "      <th>board_type</th>\n",
       "      <th></th>\n",
       "      <th></th>\n",
       "      <th></th>\n",
       "      <th></th>\n",
       "      <th></th>\n",
       "      <th></th>\n",
       "      <th></th>\n",
       "      <th></th>\n",
       "    </tr>\n",
       "  </thead>\n",
       "  <tbody>\n",
       "    <tr>\n",
       "      <th>monotone</th>\n",
       "      <td>56.044833</td>\n",
       "      <td>13.180917</td>\n",
       "      <td>3.944417</td>\n",
       "      <td>26.620333</td>\n",
       "      <td>69.435167</td>\n",
       "      <td>23.750000</td>\n",
       "      <td>11.333333</td>\n",
       "      <td>0.083333</td>\n",
       "    </tr>\n",
       "    <tr>\n",
       "      <th>rainbow</th>\n",
       "      <td>58.402928</td>\n",
       "      <td>15.499696</td>\n",
       "      <td>47.073855</td>\n",
       "      <td>42.260478</td>\n",
       "      <td>10.665638</td>\n",
       "      <td>24.072464</td>\n",
       "      <td>11.391304</td>\n",
       "      <td>0.956522</td>\n",
       "    </tr>\n",
       "    <tr>\n",
       "      <th>twotone</th>\n",
       "      <td>57.760895</td>\n",
       "      <td>14.486453</td>\n",
       "      <td>34.961860</td>\n",
       "      <td>40.612640</td>\n",
       "      <td>24.425558</td>\n",
       "      <td>25.290698</td>\n",
       "      <td>11.639535</td>\n",
       "      <td>0.883721</td>\n",
       "    </tr>\n",
       "  </tbody>\n",
       "</table>\n",
       "</div>"
      ],
      "text/plain": [
       "               equity         EV     bet66%     bet33%      check  board_sum  \\\n",
       "board_type                                                                     \n",
       "monotone    56.044833  13.180917   3.944417  26.620333  69.435167  23.750000   \n",
       "rainbow     58.402928  15.499696  47.073855  42.260478  10.665638  24.072464   \n",
       "twotone     57.760895  14.486453  34.961860  40.612640  24.425558  25.290698   \n",
       "\n",
       "            high_card  check_or_bet  \n",
       "board_type                           \n",
       "monotone    11.333333      0.083333  \n",
       "rainbow     11.391304      0.956522  \n",
       "twotone     11.639535      0.883721  "
      ]
     },
     "execution_count": 31,
     "metadata": {},
     "output_type": "execute_result"
    }
   ],
   "source": [
    "# 脱線してboradタイプごとの平均値での集計をしてみます。\n",
    "df.groupby('board_type').mean()"
   ]
  },
  {
   "cell_type": "code",
   "execution_count": 32,
   "metadata": {},
   "outputs": [
    {
     "data": {
      "text/html": [
       "<div>\n",
       "<style>\n",
       "    .dataframe thead tr:only-child th {\n",
       "        text-align: right;\n",
       "    }\n",
       "\n",
       "    .dataframe thead th {\n",
       "        text-align: left;\n",
       "    }\n",
       "\n",
       "    .dataframe tbody tr th {\n",
       "        vertical-align: top;\n",
       "    }\n",
       "</style>\n",
       "<table border=\"1\" class=\"dataframe\">\n",
       "  <thead>\n",
       "    <tr style=\"text-align: right;\">\n",
       "      <th></th>\n",
       "      <th>equity</th>\n",
       "      <th>EV</th>\n",
       "      <th>bet66%</th>\n",
       "      <th>bet33%</th>\n",
       "      <th>check</th>\n",
       "      <th>board_sum</th>\n",
       "      <th>high_card</th>\n",
       "      <th>check_or_bet</th>\n",
       "    </tr>\n",
       "    <tr>\n",
       "      <th>board_type</th>\n",
       "      <th></th>\n",
       "      <th></th>\n",
       "      <th></th>\n",
       "      <th></th>\n",
       "      <th></th>\n",
       "      <th></th>\n",
       "      <th></th>\n",
       "      <th></th>\n",
       "    </tr>\n",
       "  </thead>\n",
       "  <tbody>\n",
       "    <tr>\n",
       "      <th>monotone</th>\n",
       "      <td>54.663167</td>\n",
       "      <td>12.712500</td>\n",
       "      <td>2.477500</td>\n",
       "      <td>29.867500</td>\n",
       "      <td>67.655000</td>\n",
       "      <td>18.500000</td>\n",
       "      <td>9.000000</td>\n",
       "      <td>0.166667</td>\n",
       "    </tr>\n",
       "    <tr>\n",
       "      <th>rainbow</th>\n",
       "      <td>56.231184</td>\n",
       "      <td>14.571842</td>\n",
       "      <td>53.512711</td>\n",
       "      <td>29.621263</td>\n",
       "      <td>16.866000</td>\n",
       "      <td>19.815789</td>\n",
       "      <td>10.605263</td>\n",
       "      <td>0.921053</td>\n",
       "    </tr>\n",
       "    <tr>\n",
       "      <th>twotone</th>\n",
       "      <td>54.574909</td>\n",
       "      <td>13.157932</td>\n",
       "      <td>34.004659</td>\n",
       "      <td>33.828636</td>\n",
       "      <td>32.166727</td>\n",
       "      <td>20.068182</td>\n",
       "      <td>10.386364</td>\n",
       "      <td>0.772727</td>\n",
       "    </tr>\n",
       "  </tbody>\n",
       "</table>\n",
       "</div>"
      ],
      "text/plain": [
       "               equity         EV     bet66%     bet33%      check  board_sum  \\\n",
       "board_type                                                                     \n",
       "monotone    54.663167  12.712500   2.477500  29.867500  67.655000  18.500000   \n",
       "rainbow     56.231184  14.571842  53.512711  29.621263  16.866000  19.815789   \n",
       "twotone     54.574909  13.157932  34.004659  33.828636  32.166727  20.068182   \n",
       "\n",
       "            high_card  check_or_bet  \n",
       "board_type                           \n",
       "monotone     9.000000      0.166667  \n",
       "rainbow     10.605263      0.921053  \n",
       "twotone     10.386364      0.772727  "
      ]
     },
     "execution_count": 32,
     "metadata": {},
     "output_type": "execute_result"
    }
   ],
   "source": [
    "# borad_sumの平均が約24なので、それ以上以下で差があるか見てみます。\n",
    "df[df['board_sum']<=24].groupby('board_type').mean()"
   ]
  },
  {
   "cell_type": "code",
   "execution_count": 33,
   "metadata": {},
   "outputs": [
    {
     "data": {
      "text/html": [
       "<div>\n",
       "<style>\n",
       "    .dataframe thead tr:only-child th {\n",
       "        text-align: right;\n",
       "    }\n",
       "\n",
       "    .dataframe thead th {\n",
       "        text-align: left;\n",
       "    }\n",
       "\n",
       "    .dataframe tbody tr th {\n",
       "        vertical-align: top;\n",
       "    }\n",
       "</style>\n",
       "<table border=\"1\" class=\"dataframe\">\n",
       "  <thead>\n",
       "    <tr style=\"text-align: right;\">\n",
       "      <th></th>\n",
       "      <th>equity</th>\n",
       "      <th>EV</th>\n",
       "      <th>bet66%</th>\n",
       "      <th>bet33%</th>\n",
       "      <th>check</th>\n",
       "      <th>board_sum</th>\n",
       "      <th>high_card</th>\n",
       "      <th>check_or_bet</th>\n",
       "    </tr>\n",
       "    <tr>\n",
       "      <th>board_type</th>\n",
       "      <th></th>\n",
       "      <th></th>\n",
       "      <th></th>\n",
       "      <th></th>\n",
       "      <th></th>\n",
       "      <th></th>\n",
       "      <th></th>\n",
       "      <th></th>\n",
       "    </tr>\n",
       "  </thead>\n",
       "  <tbody>\n",
       "    <tr>\n",
       "      <th>monotone</th>\n",
       "      <td>57.350375</td>\n",
       "      <td>13.600875</td>\n",
       "      <td>4.756875</td>\n",
       "      <td>26.069625</td>\n",
       "      <td>69.173500</td>\n",
       "      <td>27.750000</td>\n",
       "      <td>13.125000</td>\n",
       "      <td>0.0</td>\n",
       "    </tr>\n",
       "    <tr>\n",
       "      <th>rainbow</th>\n",
       "      <td>60.706806</td>\n",
       "      <td>16.398444</td>\n",
       "      <td>37.861056</td>\n",
       "      <td>57.815889</td>\n",
       "      <td>4.323028</td>\n",
       "      <td>28.555556</td>\n",
       "      <td>12.472222</td>\n",
       "      <td>1.0</td>\n",
       "    </tr>\n",
       "    <tr>\n",
       "      <th>twotone</th>\n",
       "      <td>60.474653</td>\n",
       "      <td>15.629837</td>\n",
       "      <td>36.742755</td>\n",
       "      <td>46.313755</td>\n",
       "      <td>16.943592</td>\n",
       "      <td>29.795918</td>\n",
       "      <td>12.714286</td>\n",
       "      <td>1.0</td>\n",
       "    </tr>\n",
       "  </tbody>\n",
       "</table>\n",
       "</div>"
      ],
      "text/plain": [
       "               equity         EV     bet66%     bet33%      check  board_sum  \\\n",
       "board_type                                                                     \n",
       "monotone    57.350375  13.600875   4.756875  26.069625  69.173500  27.750000   \n",
       "rainbow     60.706806  16.398444  37.861056  57.815889   4.323028  28.555556   \n",
       "twotone     60.474653  15.629837  36.742755  46.313755  16.943592  29.795918   \n",
       "\n",
       "            high_card  check_or_bet  \n",
       "board_type                           \n",
       "monotone    13.125000           0.0  \n",
       "rainbow     12.472222           1.0  \n",
       "twotone     12.714286           1.0  "
      ]
     },
     "execution_count": 33,
     "metadata": {},
     "output_type": "execute_result"
    }
   ],
   "source": [
    "#  どうやらmonotone以外だとborad_sumが高いほどbet率が高そうです。\n",
    "df[df['board_sum']>=24].groupby('board_type').mean()"
   ]
  },
  {
   "cell_type": "code",
   "execution_count": 34,
   "metadata": {
    "collapsed": true
   },
   "outputs": [],
   "source": [
    "# 脱線終了。ロジスティック回帰をするためにboard_typeをダミー変数化します。\n",
    "board_dummies = pd.get_dummies(df['board_type'])"
   ]
  },
  {
   "cell_type": "code",
   "execution_count": 35,
   "metadata": {},
   "outputs": [
    {
     "data": {
      "text/html": [
       "<div>\n",
       "<style>\n",
       "    .dataframe thead tr:only-child th {\n",
       "        text-align: right;\n",
       "    }\n",
       "\n",
       "    .dataframe thead th {\n",
       "        text-align: left;\n",
       "    }\n",
       "\n",
       "    .dataframe tbody tr th {\n",
       "        vertical-align: top;\n",
       "    }\n",
       "</style>\n",
       "<table border=\"1\" class=\"dataframe\">\n",
       "  <thead>\n",
       "    <tr style=\"text-align: right;\">\n",
       "      <th></th>\n",
       "      <th>monotone</th>\n",
       "      <th>rainbow</th>\n",
       "      <th>twotone</th>\n",
       "    </tr>\n",
       "  </thead>\n",
       "  <tbody>\n",
       "    <tr>\n",
       "      <th>0</th>\n",
       "      <td>1</td>\n",
       "      <td>0</td>\n",
       "      <td>0</td>\n",
       "    </tr>\n",
       "    <tr>\n",
       "      <th>1</th>\n",
       "      <td>1</td>\n",
       "      <td>0</td>\n",
       "      <td>0</td>\n",
       "    </tr>\n",
       "    <tr>\n",
       "      <th>2</th>\n",
       "      <td>1</td>\n",
       "      <td>0</td>\n",
       "      <td>0</td>\n",
       "    </tr>\n",
       "    <tr>\n",
       "      <th>3</th>\n",
       "      <td>1</td>\n",
       "      <td>0</td>\n",
       "      <td>0</td>\n",
       "    </tr>\n",
       "    <tr>\n",
       "      <th>4</th>\n",
       "      <td>0</td>\n",
       "      <td>0</td>\n",
       "      <td>1</td>\n",
       "    </tr>\n",
       "  </tbody>\n",
       "</table>\n",
       "</div>"
      ],
      "text/plain": [
       "   monotone  rainbow  twotone\n",
       "0         1        0        0\n",
       "1         1        0        0\n",
       "2         1        0        0\n",
       "3         1        0        0\n",
       "4         0        0        1"
      ]
     },
     "execution_count": 35,
     "metadata": {},
     "output_type": "execute_result"
    }
   ],
   "source": [
    "# いわゆるone hot encoingというやつですね。linear modelでカテゴリカル変数を扱う時は必須です。\n",
    "board_dummies.head()"
   ]
  },
  {
   "cell_type": "code",
   "execution_count": 36,
   "metadata": {
    "collapsed": true
   },
   "outputs": [],
   "source": [
    "# 他の２列のデータがあれば残りの１列が１なのか0なのかは自明なので、変数間に恣意的な相関を持たせないために１列削除\n",
    "board_dummies.drop('monotone',axis=1, inplace=True)"
   ]
  },
  {
   "cell_type": "code",
   "execution_count": 37,
   "metadata": {},
   "outputs": [
    {
     "data": {
      "text/html": [
       "<div>\n",
       "<style>\n",
       "    .dataframe thead tr:only-child th {\n",
       "        text-align: right;\n",
       "    }\n",
       "\n",
       "    .dataframe thead th {\n",
       "        text-align: left;\n",
       "    }\n",
       "\n",
       "    .dataframe tbody tr th {\n",
       "        vertical-align: top;\n",
       "    }\n",
       "</style>\n",
       "<table border=\"1\" class=\"dataframe\">\n",
       "  <thead>\n",
       "    <tr style=\"text-align: right;\">\n",
       "      <th></th>\n",
       "      <th>rainbow</th>\n",
       "      <th>twotone</th>\n",
       "    </tr>\n",
       "  </thead>\n",
       "  <tbody>\n",
       "    <tr>\n",
       "      <th>0</th>\n",
       "      <td>0</td>\n",
       "      <td>0</td>\n",
       "    </tr>\n",
       "    <tr>\n",
       "      <th>1</th>\n",
       "      <td>0</td>\n",
       "      <td>0</td>\n",
       "    </tr>\n",
       "    <tr>\n",
       "      <th>2</th>\n",
       "      <td>0</td>\n",
       "      <td>0</td>\n",
       "    </tr>\n",
       "    <tr>\n",
       "      <th>3</th>\n",
       "      <td>0</td>\n",
       "      <td>0</td>\n",
       "    </tr>\n",
       "    <tr>\n",
       "      <th>4</th>\n",
       "      <td>0</td>\n",
       "      <td>1</td>\n",
       "    </tr>\n",
       "  </tbody>\n",
       "</table>\n",
       "</div>"
      ],
      "text/plain": [
       "   rainbow  twotone\n",
       "0        0        0\n",
       "1        0        0\n",
       "2        0        0\n",
       "3        0        0\n",
       "4        0        1"
      ]
     },
     "execution_count": 37,
     "metadata": {},
     "output_type": "execute_result"
    }
   ],
   "source": [
    "board_dummies.head()"
   ]
  },
  {
   "cell_type": "code",
   "execution_count": 38,
   "metadata": {
    "collapsed": true
   },
   "outputs": [],
   "source": [
    "# board_pairでも同じことをする\n",
    "pair_dummies = pd.get_dummies(df['board_pair']).drop('trips', axis=1)"
   ]
  },
  {
   "cell_type": "code",
   "execution_count": 39,
   "metadata": {},
   "outputs": [
    {
     "data": {
      "text/html": [
       "<div>\n",
       "<style>\n",
       "    .dataframe thead tr:only-child th {\n",
       "        text-align: right;\n",
       "    }\n",
       "\n",
       "    .dataframe thead th {\n",
       "        text-align: left;\n",
       "    }\n",
       "\n",
       "    .dataframe tbody tr th {\n",
       "        vertical-align: top;\n",
       "    }\n",
       "</style>\n",
       "<table border=\"1\" class=\"dataframe\">\n",
       "  <thead>\n",
       "    <tr style=\"text-align: right;\">\n",
       "      <th></th>\n",
       "      <th>no pair</th>\n",
       "      <th>one pair</th>\n",
       "    </tr>\n",
       "  </thead>\n",
       "  <tbody>\n",
       "    <tr>\n",
       "      <th>0</th>\n",
       "      <td>1</td>\n",
       "      <td>0</td>\n",
       "    </tr>\n",
       "    <tr>\n",
       "      <th>1</th>\n",
       "      <td>1</td>\n",
       "      <td>0</td>\n",
       "    </tr>\n",
       "    <tr>\n",
       "      <th>2</th>\n",
       "      <td>1</td>\n",
       "      <td>0</td>\n",
       "    </tr>\n",
       "    <tr>\n",
       "      <th>3</th>\n",
       "      <td>1</td>\n",
       "      <td>0</td>\n",
       "    </tr>\n",
       "    <tr>\n",
       "      <th>4</th>\n",
       "      <td>1</td>\n",
       "      <td>0</td>\n",
       "    </tr>\n",
       "  </tbody>\n",
       "</table>\n",
       "</div>"
      ],
      "text/plain": [
       "   no pair  one pair\n",
       "0        1         0\n",
       "1        1         0\n",
       "2        1         0\n",
       "3        1         0\n",
       "4        1         0"
      ]
     },
     "execution_count": 39,
     "metadata": {},
     "output_type": "execute_result"
    }
   ],
   "source": [
    "pair_dummies.head()"
   ]
  },
  {
   "cell_type": "code",
   "execution_count": 40,
   "metadata": {
    "collapsed": true
   },
   "outputs": [],
   "source": [
    "X = df[['equity', 'board_sum', 'high_card']]\n",
    "X = pd.concat([X,board_dummies],axis=1)\n",
    "X = pd.concat([X,pair_dummies],axis=1)"
   ]
  },
  {
   "cell_type": "code",
   "execution_count": 41,
   "metadata": {},
   "outputs": [
    {
     "data": {
      "text/html": [
       "<div>\n",
       "<style>\n",
       "    .dataframe thead tr:only-child th {\n",
       "        text-align: right;\n",
       "    }\n",
       "\n",
       "    .dataframe thead th {\n",
       "        text-align: left;\n",
       "    }\n",
       "\n",
       "    .dataframe tbody tr th {\n",
       "        vertical-align: top;\n",
       "    }\n",
       "</style>\n",
       "<table border=\"1\" class=\"dataframe\">\n",
       "  <thead>\n",
       "    <tr style=\"text-align: right;\">\n",
       "      <th></th>\n",
       "      <th>equity</th>\n",
       "      <th>board_sum</th>\n",
       "      <th>high_card</th>\n",
       "      <th>rainbow</th>\n",
       "      <th>twotone</th>\n",
       "      <th>no pair</th>\n",
       "      <th>one pair</th>\n",
       "    </tr>\n",
       "  </thead>\n",
       "  <tbody>\n",
       "    <tr>\n",
       "      <th>0</th>\n",
       "      <td>59.446</td>\n",
       "      <td>29</td>\n",
       "      <td>14</td>\n",
       "      <td>0</td>\n",
       "      <td>0</td>\n",
       "      <td>1</td>\n",
       "      <td>0</td>\n",
       "    </tr>\n",
       "    <tr>\n",
       "      <th>1</th>\n",
       "      <td>52.193</td>\n",
       "      <td>9</td>\n",
       "      <td>4</td>\n",
       "      <td>0</td>\n",
       "      <td>0</td>\n",
       "      <td>1</td>\n",
       "      <td>0</td>\n",
       "    </tr>\n",
       "    <tr>\n",
       "      <th>2</th>\n",
       "      <td>51.017</td>\n",
       "      <td>13</td>\n",
       "      <td>6</td>\n",
       "      <td>0</td>\n",
       "      <td>0</td>\n",
       "      <td>1</td>\n",
       "      <td>0</td>\n",
       "    </tr>\n",
       "    <tr>\n",
       "      <th>3</th>\n",
       "      <td>55.429</td>\n",
       "      <td>26</td>\n",
       "      <td>14</td>\n",
       "      <td>0</td>\n",
       "      <td>0</td>\n",
       "      <td>1</td>\n",
       "      <td>0</td>\n",
       "    </tr>\n",
       "    <tr>\n",
       "      <th>4</th>\n",
       "      <td>56.014</td>\n",
       "      <td>19</td>\n",
       "      <td>14</td>\n",
       "      <td>0</td>\n",
       "      <td>1</td>\n",
       "      <td>1</td>\n",
       "      <td>0</td>\n",
       "    </tr>\n",
       "  </tbody>\n",
       "</table>\n",
       "</div>"
      ],
      "text/plain": [
       "   equity  board_sum  high_card  rainbow  twotone  no pair  one pair\n",
       "0  59.446         29         14        0        0        1         0\n",
       "1  52.193          9          4        0        0        1         0\n",
       "2  51.017         13          6        0        0        1         0\n",
       "3  55.429         26         14        0        0        1         0\n",
       "4  56.014         19         14        0        1        1         0"
      ]
     },
     "execution_count": 41,
     "metadata": {},
     "output_type": "execute_result"
    }
   ],
   "source": [
    "# 今回使用する説明変数\n",
    "X.head()"
   ]
  },
  {
   "cell_type": "code",
   "execution_count": 42,
   "metadata": {
    "collapsed": true
   },
   "outputs": [],
   "source": [
    "# 正解ラベル\n",
    "Y = df.check_or_bet.values"
   ]
  },
  {
   "cell_type": "code",
   "execution_count": 43,
   "metadata": {},
   "outputs": [
    {
     "data": {
      "text/plain": [
       "array([ 0.,  0.,  0.,  0.,  0.,  0.,  0.,  0.,  0.,  0.,  0.,  0.,  0.,\n",
       "        0.,  0.,  0.,  0.,  0.,  0.,  0.,  0.,  0.,  0.,  0.,  1.,  1.,\n",
       "        1.,  1.,  1.,  1.,  1.,  1.,  1.,  1.,  1.,  1.,  1.,  1.,  1.,\n",
       "        1.,  1.,  1.,  1.,  1.,  1.,  1.,  1.,  1.,  1.,  1.,  1.,  1.,\n",
       "        1.,  1.,  1.,  1.,  1.,  1.,  1.,  1.,  1.,  1.,  1.,  1.,  1.,\n",
       "        1.,  1.,  1.,  1.,  1.,  1.,  1.,  1.,  1.,  1.,  1.,  1.,  1.,\n",
       "        1.,  1.,  1.,  1.,  1.,  1.,  1.,  1.,  1.,  1.,  1.,  1.,  1.,\n",
       "        1.,  1.,  1.,  1.,  1.,  1.,  1.,  1.,  1.,  1.,  1.,  1.,  1.,\n",
       "        1.,  1.,  1.,  1.,  1.,  1.,  1.,  1.,  1.,  1.,  1.,  1.,  1.,\n",
       "        1.,  1.,  1.,  1.,  1.,  1.,  1.,  1.,  1.,  1.,  1.,  1.,  1.,\n",
       "        1.,  1.,  1.,  1.,  1.,  1.,  1.,  1.,  1.,  1.,  1.,  1.,  1.,\n",
       "        1.,  1.,  1.,  1.,  1.,  1.,  1.,  1.,  1.,  1.,  1.,  1.,  1.,\n",
       "        1.,  1.,  1.,  1.,  1.,  1.,  1.,  1.,  1.,  1.,  1.])"
      ]
     },
     "execution_count": 43,
     "metadata": {},
     "output_type": "execute_result"
    }
   ],
   "source": [
    "Y"
   ]
  },
  {
   "cell_type": "code",
   "execution_count": 44,
   "metadata": {},
   "outputs": [
    {
     "data": {
      "text/plain": [
       "0.87425149700598803"
      ]
     },
     "execution_count": 44,
     "metadata": {},
     "output_type": "execute_result"
    }
   ],
   "source": [
    "# モデル自身への当てはめでは87.4%の精度が得られた\n",
    "log_model = LogisticRegression() \n",
    "log_model.fit(X,Y)\n",
    "log_model.score(X,Y)"
   ]
  },
  {
   "cell_type": "code",
   "execution_count": 45,
   "metadata": {},
   "outputs": [
    {
     "data": {
      "text/html": [
       "<div>\n",
       "<style>\n",
       "    .dataframe thead tr:only-child th {\n",
       "        text-align: right;\n",
       "    }\n",
       "\n",
       "    .dataframe thead th {\n",
       "        text-align: left;\n",
       "    }\n",
       "\n",
       "    .dataframe tbody tr th {\n",
       "        vertical-align: top;\n",
       "    }\n",
       "</style>\n",
       "<table border=\"1\" class=\"dataframe\">\n",
       "  <thead>\n",
       "    <tr style=\"text-align: right;\">\n",
       "      <th></th>\n",
       "      <th>0</th>\n",
       "      <th>1</th>\n",
       "    </tr>\n",
       "  </thead>\n",
       "  <tbody>\n",
       "    <tr>\n",
       "      <th>0</th>\n",
       "      <td>equity</td>\n",
       "      <td>-0.00661878</td>\n",
       "    </tr>\n",
       "    <tr>\n",
       "      <th>1</th>\n",
       "      <td>board_sum</td>\n",
       "      <td>0.0579908</td>\n",
       "    </tr>\n",
       "    <tr>\n",
       "      <th>2</th>\n",
       "      <td>high_card</td>\n",
       "      <td>0.159335</td>\n",
       "    </tr>\n",
       "    <tr>\n",
       "      <th>3</th>\n",
       "      <td>rainbow</td>\n",
       "      <td>2.25035</td>\n",
       "    </tr>\n",
       "    <tr>\n",
       "      <th>4</th>\n",
       "      <td>twotone</td>\n",
       "      <td>1.71738</td>\n",
       "    </tr>\n",
       "    <tr>\n",
       "      <th>5</th>\n",
       "      <td>no pair</td>\n",
       "      <td>-1.7199</td>\n",
       "    </tr>\n",
       "    <tr>\n",
       "      <th>6</th>\n",
       "      <td>one pair</td>\n",
       "      <td>0.586571</td>\n",
       "    </tr>\n",
       "  </tbody>\n",
       "</table>\n",
       "</div>"
      ],
      "text/plain": [
       "           0           1\n",
       "0     equity -0.00661878\n",
       "1  board_sum   0.0579908\n",
       "2  high_card    0.159335\n",
       "3    rainbow     2.25035\n",
       "4    twotone     1.71738\n",
       "5    no pair     -1.7199\n",
       "6   one pair    0.586571"
      ]
     },
     "execution_count": 45,
     "metadata": {},
     "output_type": "execute_result"
    }
   ],
   "source": [
    "# equityがほとんどcheck or betに影響していないのは意外。board_typeが他の変数と比べるとかなり意思決定に寄与していそう。\n",
    "# このような分析結果がポーカーの戦略構築に役に立つことがある。\n",
    "coeff_df = pd.DataFrame([X.columns, log_model.coef_[0]]).T\n",
    "coeff_df"
   ]
  },
  {
   "cell_type": "code",
   "execution_count": 46,
   "metadata": {},
   "outputs": [
    {
     "name": "stdout",
     "output_type": "stream",
     "text": [
      "Cross-validation score: 86.2%\n"
     ]
    }
   ],
   "source": [
    "# 過学習かもしれないので、cross validationを行う\n",
    "skf = StratifiedKFold(n_splits=5)\n",
    "print('Cross-validation score: {:.1%}'.format(np.mean(cross_val_score(log_model, X, Y, cv=skf))))"
   ]
  }
 ],
 "metadata": {
  "kernelspec": {
   "display_name": "Python 3",
   "language": "python",
   "name": "python3"
  },
  "language_info": {
   "codemirror_mode": {
    "name": "ipython",
    "version": 3
   },
   "file_extension": ".py",
   "mimetype": "text/x-python",
   "name": "python",
   "nbconvert_exporter": "python",
   "pygments_lexer": "ipython3",
   "version": "3.6.3"
  }
 },
 "nbformat": 4,
 "nbformat_minor": 2
}
